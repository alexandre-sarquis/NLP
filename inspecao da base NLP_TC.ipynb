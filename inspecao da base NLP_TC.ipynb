{
  "nbformat": 4,
  "nbformat_minor": 0,
  "metadata": {
    "colab": {
      "provenance": [],
      "authorship_tag": "ABX9TyMQs/6RSuP/6Ig1W/dEo9Yr",
      "include_colab_link": true
    },
    "kernelspec": {
      "name": "python3",
      "display_name": "Python 3"
    },
    "language_info": {
      "name": "python"
    }
  },
  "cells": [
    {
      "cell_type": "markdown",
      "metadata": {
        "id": "view-in-github",
        "colab_type": "text"
      },
      "source": [
        "<a href=\"https://colab.research.google.com/github/alexandre-sarquis/NLP/blob/main/inspecao%20da%20base%20NLP_TC.ipynb\" target=\"_parent\"><img src=\"https://colab.research.google.com/assets/colab-badge.svg\" alt=\"Open In Colab\"/></a>"
      ]
    },
    {
      "cell_type": "code",
      "execution_count": 2,
      "metadata": {
        "colab": {
          "base_uri": "https://localhost:8080/"
        },
        "id": "tBIHCyBSomsW",
        "outputId": "5fe47475-46eb-4e8f-be8a-13da3d8324ba"
      },
      "outputs": [
        {
          "output_type": "stream",
          "name": "stdout",
          "text": [
            "Looking in indexes: https://pypi.org/simple, https://us-python.pkg.dev/colab-wheels/public/simple/\n",
            "Collecting psycopg\n",
            "  Downloading psycopg-3.1.6-py3-none-any.whl (167 kB)\n",
            "\u001b[K     |████████████████████████████████| 167 kB 5.3 MB/s \n",
            "\u001b[?25hCollecting backports.zoneinfo>=0.2.0\n",
            "  Downloading backports.zoneinfo-0.2.1-cp38-cp38-manylinux1_x86_64.whl (74 kB)\n",
            "\u001b[K     |████████████████████████████████| 74 kB 2.7 MB/s \n",
            "\u001b[?25hRequirement already satisfied: typing-extensions>=4.1 in /usr/local/lib/python3.8/dist-packages (from psycopg) (4.4.0)\n",
            "Installing collected packages: backports.zoneinfo, psycopg\n",
            "Successfully installed backports.zoneinfo-0.2.1 psycopg-3.1.6\n"
          ]
        }
      ],
      "source": [
        "!pip install psycopg"
      ]
    },
    {
      "cell_type": "code",
      "source": [
        "import psycopg"
      ],
      "metadata": {
        "id": "trAdKi1_o7qw"
      },
      "execution_count": 3,
      "outputs": []
    },
    {
      "cell_type": "code",
      "source": [
        "conn = psycopg.connect(\"dbname=postgres user=aluno_nlp_tc password=ALUNO_NLP_TC \" + \\\n",
        "                       \"port=5432 \" + \\\n",
        "                       \"host=ec2-18-231-126-109.sa-east-1.compute.amazonaws.com\")"
      ],
      "metadata": {
        "id": "UzeFJsU0o-av"
      },
      "execution_count": 4,
      "outputs": []
    },
    {
      "cell_type": "code",
      "source": [
        "import pandas as pd"
      ],
      "metadata": {
        "id": "1pWoxWXNphxL"
      },
      "execution_count": 5,
      "outputs": []
    },
    {
      "cell_type": "code",
      "source": [
        "import numpy as np"
      ],
      "metadata": {
        "id": "6MeCHrYFpzKA"
      },
      "execution_count": 6,
      "outputs": []
    },
    {
      "cell_type": "code",
      "source": [
        "dfResultado = pd.read_sql('SELECT * FROM TABELA_NILC_NLP_TC LIMIT 10', conn)"
      ],
      "metadata": {
        "id": "M6ljcUXEp23Y"
      },
      "execution_count": 7,
      "outputs": []
    },
    {
      "cell_type": "code",
      "source": [
        "dfResultado.head()"
      ],
      "metadata": {
        "colab": {
          "base_uri": "https://localhost:8080/",
          "height": 224
        },
        "id": "Q7d_UxDAqdXo",
        "outputId": "4f49f593-e15b-43ce-e1e2-d1a43d362adf"
      },
      "execution_count": 8,
      "outputs": [
        {
          "output_type": "execute_result",
          "data": {
            "text/plain": [
              "   id_index vc_palavra                                        vt_norm_vet  \\\n",
              "0        49       está  [-0.13614100217819214, -0.02454799972474575, 0...   \n",
              "1        50       pela  [-0.039622001349925995, -0.1816670000553131, 0...   \n",
              "2        51     também  [0.08986099809408188, 0.018317999318242073, -0...   \n",
              "3        52        nos  [0.003203999949619174, -0.11206299811601639, 0...   \n",
              "4        53      sobre  [-0.02283800020813942, -0.06222200021147728, -...   \n",
              "\n",
              "   dp_norma_vet  \n",
              "0      2.832114  \n",
              "1      2.720916  \n",
              "2      1.701378  \n",
              "3      2.777660  \n",
              "4      2.694446  "
            ],
            "text/html": [
              "\n",
              "  <div id=\"df-e9565372-694d-4d8e-84ec-20a11c841ff8\">\n",
              "    <div class=\"colab-df-container\">\n",
              "      <div>\n",
              "<style scoped>\n",
              "    .dataframe tbody tr th:only-of-type {\n",
              "        vertical-align: middle;\n",
              "    }\n",
              "\n",
              "    .dataframe tbody tr th {\n",
              "        vertical-align: top;\n",
              "    }\n",
              "\n",
              "    .dataframe thead th {\n",
              "        text-align: right;\n",
              "    }\n",
              "</style>\n",
              "<table border=\"1\" class=\"dataframe\">\n",
              "  <thead>\n",
              "    <tr style=\"text-align: right;\">\n",
              "      <th></th>\n",
              "      <th>id_index</th>\n",
              "      <th>vc_palavra</th>\n",
              "      <th>vt_norm_vet</th>\n",
              "      <th>dp_norma_vet</th>\n",
              "    </tr>\n",
              "  </thead>\n",
              "  <tbody>\n",
              "    <tr>\n",
              "      <th>0</th>\n",
              "      <td>49</td>\n",
              "      <td>está</td>\n",
              "      <td>[-0.13614100217819214, -0.02454799972474575, 0...</td>\n",
              "      <td>2.832114</td>\n",
              "    </tr>\n",
              "    <tr>\n",
              "      <th>1</th>\n",
              "      <td>50</td>\n",
              "      <td>pela</td>\n",
              "      <td>[-0.039622001349925995, -0.1816670000553131, 0...</td>\n",
              "      <td>2.720916</td>\n",
              "    </tr>\n",
              "    <tr>\n",
              "      <th>2</th>\n",
              "      <td>51</td>\n",
              "      <td>também</td>\n",
              "      <td>[0.08986099809408188, 0.018317999318242073, -0...</td>\n",
              "      <td>1.701378</td>\n",
              "    </tr>\n",
              "    <tr>\n",
              "      <th>3</th>\n",
              "      <td>52</td>\n",
              "      <td>nos</td>\n",
              "      <td>[0.003203999949619174, -0.11206299811601639, 0...</td>\n",
              "      <td>2.777660</td>\n",
              "    </tr>\n",
              "    <tr>\n",
              "      <th>4</th>\n",
              "      <td>53</td>\n",
              "      <td>sobre</td>\n",
              "      <td>[-0.02283800020813942, -0.06222200021147728, -...</td>\n",
              "      <td>2.694446</td>\n",
              "    </tr>\n",
              "  </tbody>\n",
              "</table>\n",
              "</div>\n",
              "      <button class=\"colab-df-convert\" onclick=\"convertToInteractive('df-e9565372-694d-4d8e-84ec-20a11c841ff8')\"\n",
              "              title=\"Convert this dataframe to an interactive table.\"\n",
              "              style=\"display:none;\">\n",
              "        \n",
              "  <svg xmlns=\"http://www.w3.org/2000/svg\" height=\"24px\"viewBox=\"0 0 24 24\"\n",
              "       width=\"24px\">\n",
              "    <path d=\"M0 0h24v24H0V0z\" fill=\"none\"/>\n",
              "    <path d=\"M18.56 5.44l.94 2.06.94-2.06 2.06-.94-2.06-.94-.94-2.06-.94 2.06-2.06.94zm-11 1L8.5 8.5l.94-2.06 2.06-.94-2.06-.94L8.5 2.5l-.94 2.06-2.06.94zm10 10l.94 2.06.94-2.06 2.06-.94-2.06-.94-.94-2.06-.94 2.06-2.06.94z\"/><path d=\"M17.41 7.96l-1.37-1.37c-.4-.4-.92-.59-1.43-.59-.52 0-1.04.2-1.43.59L10.3 9.45l-7.72 7.72c-.78.78-.78 2.05 0 2.83L4 21.41c.39.39.9.59 1.41.59.51 0 1.02-.2 1.41-.59l7.78-7.78 2.81-2.81c.8-.78.8-2.07 0-2.86zM5.41 20L4 18.59l7.72-7.72 1.47 1.35L5.41 20z\"/>\n",
              "  </svg>\n",
              "      </button>\n",
              "      \n",
              "  <style>\n",
              "    .colab-df-container {\n",
              "      display:flex;\n",
              "      flex-wrap:wrap;\n",
              "      gap: 12px;\n",
              "    }\n",
              "\n",
              "    .colab-df-convert {\n",
              "      background-color: #E8F0FE;\n",
              "      border: none;\n",
              "      border-radius: 50%;\n",
              "      cursor: pointer;\n",
              "      display: none;\n",
              "      fill: #1967D2;\n",
              "      height: 32px;\n",
              "      padding: 0 0 0 0;\n",
              "      width: 32px;\n",
              "    }\n",
              "\n",
              "    .colab-df-convert:hover {\n",
              "      background-color: #E2EBFA;\n",
              "      box-shadow: 0px 1px 2px rgba(60, 64, 67, 0.3), 0px 1px 3px 1px rgba(60, 64, 67, 0.15);\n",
              "      fill: #174EA6;\n",
              "    }\n",
              "\n",
              "    [theme=dark] .colab-df-convert {\n",
              "      background-color: #3B4455;\n",
              "      fill: #D2E3FC;\n",
              "    }\n",
              "\n",
              "    [theme=dark] .colab-df-convert:hover {\n",
              "      background-color: #434B5C;\n",
              "      box-shadow: 0px 1px 3px 1px rgba(0, 0, 0, 0.15);\n",
              "      filter: drop-shadow(0px 1px 2px rgba(0, 0, 0, 0.3));\n",
              "      fill: #FFFFFF;\n",
              "    }\n",
              "  </style>\n",
              "\n",
              "      <script>\n",
              "        const buttonEl =\n",
              "          document.querySelector('#df-e9565372-694d-4d8e-84ec-20a11c841ff8 button.colab-df-convert');\n",
              "        buttonEl.style.display =\n",
              "          google.colab.kernel.accessAllowed ? 'block' : 'none';\n",
              "\n",
              "        async function convertToInteractive(key) {\n",
              "          const element = document.querySelector('#df-e9565372-694d-4d8e-84ec-20a11c841ff8');\n",
              "          const dataTable =\n",
              "            await google.colab.kernel.invokeFunction('convertToInteractive',\n",
              "                                                     [key], {});\n",
              "          if (!dataTable) return;\n",
              "\n",
              "          const docLinkHtml = 'Like what you see? Visit the ' +\n",
              "            '<a target=\"_blank\" href=https://colab.research.google.com/notebooks/data_table.ipynb>data table notebook</a>'\n",
              "            + ' to learn more about interactive tables.';\n",
              "          element.innerHTML = '';\n",
              "          dataTable['output_type'] = 'display_data';\n",
              "          await google.colab.output.renderOutput(dataTable, element);\n",
              "          const docLink = document.createElement('div');\n",
              "          docLink.innerHTML = docLinkHtml;\n",
              "          element.appendChild(docLink);\n",
              "        }\n",
              "      </script>\n",
              "    </div>\n",
              "  </div>\n",
              "  "
            ]
          },
          "metadata": {},
          "execution_count": 8
        }
      ]
    },
    {
      "cell_type": "code",
      "source": [
        "dfResultado2 = pd.read_sql('SELECT COUNT(*) FROM TABELA_NILC_NLP_TC', conn)"
      ],
      "metadata": {
        "id": "jWP_7tXUrT0f"
      },
      "execution_count": 9,
      "outputs": []
    },
    {
      "cell_type": "code",
      "source": [
        "print(dfResultado2)"
      ],
      "metadata": {
        "colab": {
          "base_uri": "https://localhost:8080/"
        },
        "id": "CI3ksTgQru1K",
        "outputId": "7e1fb981-cca8-49eb-e0f7-e287e7067791"
      },
      "execution_count": 10,
      "outputs": [
        {
          "output_type": "stream",
          "name": "stdout",
          "text": [
            "    count\n",
            "0  594501\n"
          ]
        }
      ]
    },
    {
      "cell_type": "code",
      "source": [
        "dfResultado3 = pd.read_sql('SELECT * FROM DECISOES_NLP_TC LIMIT 5', conn)"
      ],
      "metadata": {
        "id": "zT90jblyry-_"
      },
      "execution_count": 11,
      "outputs": []
    },
    {
      "cell_type": "code",
      "source": [
        "dfResultado3.head()"
      ],
      "metadata": {
        "id": "C4mKt7TBr9gP"
      },
      "execution_count": null,
      "outputs": []
    },
    {
      "cell_type": "code",
      "source": [
        "dfResultado4 = pd.read_sql('SELECT COUNT(*) FROM DECISOES_NLP_TC', conn)"
      ],
      "metadata": {
        "id": "OtOQ-XPWsWb5"
      },
      "execution_count": 13,
      "outputs": []
    },
    {
      "cell_type": "code",
      "source": [
        "print(dfResultado4)"
      ],
      "metadata": {
        "colab": {
          "base_uri": "https://localhost:8080/"
        },
        "id": "XIx2XvUJsdUA",
        "outputId": "9122d560-04a7-4624-cc65-af6a1969ec53"
      },
      "execution_count": 14,
      "outputs": [
        {
          "output_type": "stream",
          "name": "stdout",
          "text": [
            "   count\n",
            "0  13197\n"
          ]
        }
      ]
    }
  ]
}